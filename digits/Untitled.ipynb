{
 "cells": [
  {
   "cell_type": "code",
   "execution_count": 1,
   "metadata": {
    "collapsed": true
   },
   "outputs": [],
   "source": [
    "import numpy as np\n",
    "import pandas as pd\n",
    "import matplotlib.pyplot as plt"
   ]
  },
  {
   "cell_type": "code",
   "execution_count": 2,
   "metadata": {
    "collapsed": true
   },
   "outputs": [],
   "source": [
    "train_data = pd.read_csv('./train.csv')\n",
    "test_data = pd.read_csv('./test.csv')"
   ]
  },
  {
   "cell_type": "code",
   "execution_count": 3,
   "metadata": {},
   "outputs": [
    {
     "name": "stdout",
     "output_type": "stream",
     "text": [
      "y_train shape:(42000,), X_train shape:(42000, 28, 28, 1), X_test shape:(28000, 28, 28, 1)\n"
     ]
    },
    {
     "name": "stderr",
     "output_type": "stream",
     "text": [
      "/home/yohai/.local/lib/python3.6/site-packages/ipykernel_launcher.py:1: FutureWarning: Method .as_matrix will be removed in a future version. Use .values instead.\n",
      "  \"\"\"Entry point for launching an IPython kernel.\n",
      "/home/yohai/.local/lib/python3.6/site-packages/ipykernel_launcher.py:2: FutureWarning: Method .as_matrix will be removed in a future version. Use .values instead.\n",
      "  \n"
     ]
    }
   ],
   "source": [
    "train_data_mat = train_data.as_matrix()\n",
    "test_data_mat = test_data.as_matrix()\n",
    "y_train = train_data_mat[:,0]\n",
    "X_train = train_data_mat[:, 1:].reshape((train_data.shape[0], 28, 28, 1))\n",
    "X_test = test_data_mat[:, :].reshape((test_data.shape[0], 28, 28, 1))\n",
    "print('y_train shape:{}, X_train shape:{}, X_test shape:{}'.format(y_train.shape, X_train.shape, X_test.shape))"
   ]
  },
  {
   "cell_type": "code",
   "execution_count": 4,
   "metadata": {},
   "outputs": [
    {
     "data": {
      "image/png": "[encoded data removed]",
      "text/plain": [
       "<Figure size 432x288 with 100 Axes>"
      ]
     },
     "metadata": {},
     "output_type": "display_data"
    }
   ],
   "source": [
    "fig , axes = plt.subplots(10,10)\n",
    "image = np.random.randint(0, X_train.shape[0], 100)\n",
    "for i, ax in zip(image, axes.reshape(-1)):\n",
    "    ax.imshow(X_train[i, :, :, 0], cmap='gray')\n",
    "    ax.axis('off')\n",
    "plt.show()"
   ]
  },
  {
   "cell_type": "code",
   "execution_count": 5,
   "metadata": {
    "collapsed": true
   },
   "outputs": [],
   "source": [
    "x_mean  = np.mean(X_train)\n",
    "x_std = np.std(X_train)\n",
    "X_train = (X_train - x_mean) / x_std\n",
    "X_test = (X_test - x_mean) / x_std"
   ]
  },
  {
   "cell_type": "code",
   "execution_count": 4,
   "metadata": {
    "collapsed": true
   },
   "outputs": [],
   "source": [
    "from keras.models import Sequential\n",
    "from keras.layers import Dense, Convolution2D, Flatten, Activation, Input, MaxPooling2D, Dropout, Conv2D\n",
    "from keras.initializers import VarianceScaling, Zeros\n",
    "from keras import Model\n",
    "from keras.utils import np_utils\n",
    "import tensorflow as tf"
   ]
  },
  {
   "cell_type": "code",
   "execution_count": 7,
   "metadata": {
    "collapsed": true
   },
   "outputs": [],
   "source": [
    "y_train = np_utils.to_categorical(y_train, 10)"
   ]
  },
  {
   "cell_type": "code",
   "execution_count": 10,
   "metadata": {
    "collapsed": true
   },
   "outputs": [],
   "source": [
    "initializer = VarianceScaling(scale=2.0)\n",
    "zero_initializer = Zeros()\n",
    "model = Sequential([\n",
    "        Conv2D(\n",
    "            filters=32,\n",
    "            kernel_size=5,\n",
    "            padding='same',\n",
    "            activation='relu',\n",
    "            use_bias=True,\n",
    "            kernel_initializer = initializer,\n",
    "            bias_initializer = zero_initializer\n",
    "        ),\n",
    "        Conv2D(\n",
    "            filters=16,\n",
    "            kernel_size=3,\n",
    "            padding='same',\n",
    "            activation='relu',\n",
    "            use_bias=True,\n",
    "            kernel_initializer = initializer,\n",
    "            bias_initializer = zero_initializer\n",
    "        ),\n",
    "        MaxPooling2D(\n",
    "            pool_size=(2, 2)\n",
    "        ),\n",
    "        Dropout(\n",
    "            rate = 0.2\n",
    "        ),\n",
    "        Conv2D(\n",
    "            filters=16,\n",
    "            kernel_size=3,\n",
    "            padding='same',\n",
    "            activation='relu',\n",
    "            use_bias=True,\n",
    "            kernel_initializer = initializer,\n",
    "            bias_initializer = zero_initializer\n",
    "        ),\n",
    "        MaxPooling2D(\n",
    "            pool_size=(2, 2)\n",
    "        ),\n",
    "        Dropout(\n",
    "            rate = 0.2\n",
    "        ),\n",
    "        Flatten(\n",
    "        ),\n",
    "        Dense(\n",
    "            units=1000,\n",
    "            use_bias=True,\n",
    "            kernel_initializer = initializer,\n",
    "            bias_initializer = zero_initializer,\n",
    "            activation='relu'\n",
    "        ),\n",
    "        Dense(\n",
    "            units=10,\n",
    "            use_bias=True,\n",
    "            kernel_initializer = initializer,\n",
    "            bias_initializer = zero_initializer,\n",
    "            activation='softmax'\n",
    "        )\n",
    "]\n",
    ")"
   ]
  },
  {
   "cell_type": "code",
   "execution_count": 11,
   "metadata": {
    "collapsed": true
   },
   "outputs": [],
   "source": [
    "optimaizer  = tf.train.MomentumOptimizer(0.01, 0.9)\n",
    "model.compile(optimizer=optimaizer,\n",
    "              loss='mean_squared_error',\n",
    "              metrics=['accuracy'])"
   ]
  },
  {
   "cell_type": "code",
   "execution_count": 13,
   "metadata": {},
   "outputs": [
    {
     "name": "stdout",
     "output_type": "stream",
     "text": [
      "Train on 37800 samples, validate on 4200 samples\n",
      "Epoch 1/5\n",
      "37800/37800 [==============================] - 86s 2ms/step - loss: 0.0083 - acc: 0.9447 - val_loss: 0.0050 - val_acc: 0.9674\n",
      "Epoch 2/5\n",
      "37800/37800 [==============================] - 78s 2ms/step - loss: 0.0065 - acc: 0.9579 - val_loss: 0.0040 - val_acc: 0.9736\n",
      "Epoch 3/5\n",
      "37800/37800 [==============================] - 90s 2ms/step - loss: 0.0055 - acc: 0.9639 - val_loss: 0.0033 - val_acc: 0.9783\n",
      "Epoch 4/5\n",
      "37800/37800 [==============================] - 81s 2ms/step - loss: 0.0048 - acc: 0.9685 - val_loss: 0.0030 - val_acc: 0.9802\n",
      "Epoch 5/5\n",
      "37800/37800 [==============================] - 86s 2ms/step - loss: 0.0046 - acc: 0.9700 - val_loss: 0.0029 - val_acc: 0.9807\n"
     ]
    },
    {
     "data": {
      "text/plain": [
       "<keras.callbacks.History at 0x7fc3fd43a6d8>"
      ]
     },
     "execution_count": 13,
     "metadata": {},
     "output_type": "execute_result"
    }
   ],
   "source": [
    "model.fit(X_train, y_train,                # Train the model using the training set...\n",
    "          batch_size=32, epochs=5,\n",
    "          verbose=1, validation_split=0.1)"
   ]
  },
  {
   "cell_type": "code",
   "execution_count": 14,
   "metadata": {
    "collapsed": true
   },
   "outputs": [],
   "source": [
    "y_pred = model.predict(X_test)"
   ]
  },
  {
   "cell_type": "code",
   "execution_count": 31,
   "metadata": {
    "collapsed": true
   },
   "outputs": [],
   "source": [
    "y_Pred = np.vstack((np.arange(y_pred.shape[0]) + 1, np.argmax(y_pred, axis=1)))\n",
    "with open(\"resultTR.csv\", \"wb\") as f:\n",
    "    f.write(b'ImageId,Label\\n')\n",
    "    np.savetxt(f, y_Pred.T.astype(int), fmt='%i', delimiter=\",\")"
   ]
  },
  {
   "cell_type": "code",
   "execution_count": null,
   "metadata": {
    "collapsed": true
   },
   "outputs": [],
   "source": []
  }
 ],
 "metadata": {
  "kernelspec": {
   "display_name": "tesorflow",
   "language": "python",
   "name": "tensorflow"
  },
  "language_info": {
   "codemirror_mode": {
    "name": "ipython",
    "version": 3
   },
   "file_extension": ".py",
   "mimetype": "text/x-python",
   "name": "python",
   "nbconvert_exporter": "python",
   "pygments_lexer": "ipython3",
   "version": "3.6.6"
  }
 },
 "nbformat": 4,
 "nbformat_minor": 2
}
