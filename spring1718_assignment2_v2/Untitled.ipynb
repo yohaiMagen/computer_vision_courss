{
 "cells": [
  {
   "cell_type": "code",
   "execution_count": 1,
   "metadata": {},
   "outputs": [],
   "source": [
    "import numpy as np\n",
    "import matplotlib.pyplot as plt"
   ]
  },
  {
   "cell_type": "code",
   "execution_count": 2,
   "metadata": {},
   "outputs": [
    {
     "data": {
      "text/plain": [
       "array([[  7,  17,   6,   3,  22,  10,  14,   5,  12,   4],\n",
       "       [  2,  12,   6,  27,   7,  14,  18,  18,  26,  24],\n",
       "       [ 23,  -3,   4,  12,  25,   7,  25,  -2,  13,  -9],\n",
       "       [ 13,  13,  24,  17,  11,  12,  10,   6,  28,  -8],\n",
       "       [ 10,   4,  19,   3,  -4,   0,  21,  15,  18,  26],\n",
       "       [ -4,   3,  14,  24,  -4,  14,  28,  14,  -5,  12],\n",
       "       [ -3,  12,   9,   4,  26,   2,  14,  -2,  29,  -5],\n",
       "       [ 17,   6, -10,  26,   0,   9,  -8,  23,  25,  17],\n",
       "       [  0,  -6,  -2,   2,  22,  15,  24,  26,   0,   2],\n",
       "       [ 29,  -4,   8,  -6,   8,  21,  27,  -4,  26,  17]])"
      ]
     },
     "execution_count": 2,
     "metadata": {},
     "output_type": "execute_result"
    }
   ],
   "source": [
    "a =np.random.randint(-10, 30,(10,10))\n",
    "a"
   ]
  },
  {
   "cell_type": "code",
   "execution_count": 3,
   "metadata": {},
   "outputs": [],
   "source": [
    "a[a<0] = 0"
   ]
  },
  {
   "cell_type": "code",
   "execution_count": 4,
   "metadata": {},
   "outputs": [
    {
     "data": {
      "text/plain": [
       "array([[ 7, 17,  6,  3, 22, 10, 14,  5, 12,  4],\n",
       "       [ 2, 12,  6, 27,  7, 14, 18, 18, 26, 24],\n",
       "       [23,  0,  4, 12, 25,  7, 25,  0, 13,  0],\n",
       "       [13, 13, 24, 17, 11, 12, 10,  6, 28,  0],\n",
       "       [10,  4, 19,  3,  0,  0, 21, 15, 18, 26],\n",
       "       [ 0,  3, 14, 24,  0, 14, 28, 14,  0, 12],\n",
       "       [ 0, 12,  9,  4, 26,  2, 14,  0, 29,  0],\n",
       "       [17,  6,  0, 26,  0,  9,  0, 23, 25, 17],\n",
       "       [ 0,  0,  0,  2, 22, 15, 24, 26,  0,  2],\n",
       "       [29,  0,  8,  0,  8, 21, 27,  0, 26, 17]])"
      ]
     },
     "execution_count": 4,
     "metadata": {},
     "output_type": "execute_result"
    }
   ],
   "source": [
    "a"
   ]
  },
  {
   "cell_type": "code",
   "execution_count": 6,
   "metadata": {},
   "outputs": [],
   "source": [
    "a = np.random.randn(4000, 400)"
   ]
  },
  {
   "cell_type": "code",
   "execution_count": 7,
   "metadata": {},
   "outputs": [
    {
     "data": {
      "text/plain": [
       "array([[ 4.12001651e-01,  2.85982443e+00, -4.22589369e-01, ...,\n",
       "         6.62444799e-02,  5.43207973e-01, -8.02499824e-01],\n",
       "       [-9.78961328e-01, -3.75440214e-01, -8.59504709e-01, ...,\n",
       "         1.66594969e-01,  1.43193707e+00, -8.13717300e-01],\n",
       "       [ 9.25513455e-01,  7.96639298e-01, -1.44291198e+00, ...,\n",
       "         9.20910387e-02,  1.10346668e-01, -1.33861807e+00],\n",
       "       ...,\n",
       "       [ 3.32051188e-02,  6.52453555e-01, -1.32771495e-03, ...,\n",
       "         4.10927030e-01,  1.50739486e+00,  4.53790224e-01],\n",
       "       [-5.47103469e-01,  5.80504984e-01,  9.55520100e-01, ...,\n",
       "         2.77599509e-01,  4.82653126e-02,  1.67095653e-01],\n",
       "       [-5.20263234e-01,  3.39007457e-01, -1.90490514e+00, ...,\n",
       "         5.34336974e-01, -2.85396828e-01, -1.10951830e+00]])"
      ]
     },
     "execution_count": 7,
     "metadata": {},
     "output_type": "execute_result"
    }
   ],
   "source": [
    "a"
   ]
  },
  {
   "cell_type": "code",
   "execution_count": null,
   "metadata": {},
   "outputs": [],
   "source": [
    "for _ in range(20000):\n",
    "    np.linalg.svd(a)"
   ]
  },
  {
   "cell_type": "code",
   "execution_count": 2,
   "metadata": {},
   "outputs": [],
   "source": [
    "a = np.ones((3,3))"
   ]
  },
  {
   "cell_type": "code",
   "execution_count": 3,
   "metadata": {},
   "outputs": [
    {
     "data": {
      "text/plain": [
       "array([[1., 1., 1.],\n",
       "       [1., 1., 1.],\n",
       "       [1., 1., 1.]])"
      ]
     },
     "execution_count": 3,
     "metadata": {},
     "output_type": "execute_result"
    }
   ],
   "source": [
    "a"
   ]
  },
  {
   "cell_type": "code",
   "execution_count": 6,
   "metadata": {},
   "outputs": [
    {
     "data": {
      "text/plain": [
       "array([[0., 0., 0., 0., 0., 0., 0.],\n",
       "       [0., 0., 0., 0., 0., 0., 0.],\n",
       "       [0., 0., 1., 1., 1., 0., 0.],\n",
       "       [0., 0., 1., 1., 1., 0., 0.],\n",
       "       [0., 0., 1., 1., 1., 0., 0.],\n",
       "       [0., 0., 0., 0., 0., 0., 0.],\n",
       "       [0., 0., 0., 0., 0., 0., 0.]])"
      ]
     },
     "execution_count": 6,
     "metadata": {},
     "output_type": "execute_result"
    }
   ],
   "source": [
    "np.pad(a,2,'constant')"
   ]
  },
  {
   "cell_type": "code",
   "execution_count": 9,
   "metadata": {},
   "outputs": [],
   "source": [
    "a = np.array([1,2,3,4])\n",
    "b= np.array([1,2,3,4])"
   ]
  },
  {
   "cell_type": "code",
   "execution_count": 16,
   "metadata": {},
   "outputs": [
    {
     "data": {
      "text/plain": [
       "30"
      ]
     },
     "execution_count": 16,
     "metadata": {},
     "output_type": "execute_result"
    }
   ],
   "source": [
    "np.sum(a*b)"
   ]
  },
  {
   "cell_type": "code",
   "execution_count": 20,
   "metadata": {},
   "outputs": [
    {
     "data": {
      "text/plain": [
       "array([[0, 1, 2],\n",
       "       [3, 4, 5],\n",
       "       [6, 7, 8]])"
      ]
     },
     "execution_count": 20,
     "metadata": {},
     "output_type": "execute_result"
    }
   ],
   "source": [
    "a = np.array([1,1,1,1,1])\n",
    "b= np.arange(9).reshape(3,3)\n",
    "b"
   ]
  },
  {
   "cell_type": "code",
   "execution_count": 21,
   "metadata": {},
   "outputs": [
    {
     "data": {
      "text/plain": [
       "array([[ 0,  1,  3,  3,  3,  3,  2],\n",
       "       [ 3,  8, 15, 15, 15, 12,  7],\n",
       "       [ 9, 21, 36, 36, 36, 27, 15],\n",
       "       [ 9, 21, 36, 36, 36, 27, 15],\n",
       "       [ 9, 21, 36, 36, 36, 27, 15],\n",
       "       [ 9, 20, 33, 33, 33, 24, 13],\n",
       "       [ 6, 13, 21, 21, 21, 15,  8]])"
      ]
     },
     "execution_count": 21,
     "metadata": {},
     "output_type": "execute_result"
    }
   ],
   "source": [
    "c = np.apply_along_axis(lambda m: np.convolve(m, a, mode='full'), axis=1, arr=b)\n",
    "np.apply_along_axis(lambda m: np.convolve(m, a, mode='full'), axis=0, arr=c)"
   ]
  },
  {
   "cell_type": "code",
   "execution_count": 24,
   "metadata": {},
   "outputs": [
    {
     "data": {
      "text/plain": [
       "array([1, 0, 0, 1, 0, 0, 1, 0, 0])"
      ]
     },
     "execution_count": 24,
     "metadata": {},
     "output_type": "execute_result"
    }
   ],
   "source": [
    "v = np.array([1,0,0])\n",
    "np.tile(v,3)"
   ]
  },
  {
   "cell_type": "code",
   "execution_count": 29,
   "metadata": {},
   "outputs": [
    {
     "name": "stdout",
     "output_type": "stream",
     "text": [
      "(2, 2)\n",
      "(3, 2, 2)\n",
      "[[1 2]\n",
      " [1 2]]\n",
      "[[1 2]\n",
      " [1 2]]\n",
      "[[1 2]\n",
      " [1 2]]\n"
     ]
    }
   ],
   "source": [
    "a = np.array([[1, 2], [1, 2]])\n",
    "print(a.shape)\n",
    "# (2,  2)\n",
    "\n",
    "# indexing with np.newaxis inserts a new 3rd dimension, which we then repeat the\n",
    "# array along, (you can achieve the same effect by indexing with None, see below)\n",
    "b = np.repeat(a[np.newaxis, :, :], 3, axis=0)\n",
    "\n",
    "print(b.shape)\n",
    "# (2, 2, 3)\n",
    "\n",
    "print(b[0, :, :])\n",
    "# [[1 2]\n",
    "#  [1 2]]\n",
    "\n",
    "print(b[1, :, :])\n",
    "# [[1 2]\n",
    "#  [1 2]]\n",
    "\n",
    "print(b[2, :, :])\n",
    "# [[1 2]\n",
    "#  [1 2]]"
   ]
  },
  {
   "cell_type": "code",
   "execution_count": null,
   "metadata": {},
   "outputs": [],
   "source": []
  }
 ],
 "metadata": {
  "kernelspec": {
   "display_name": "computer_vision",
   "language": "python",
   "name": "computer_vision"
  },
  "language_info": {
   "codemirror_mode": {
    "name": "ipython",
    "version": 3
   },
   "file_extension": ".py",
   "mimetype": "text/x-python",
   "name": "python",
   "nbconvert_exporter": "python",
   "pygments_lexer": "ipython3",
   "version": "3.6.4"
  }
 },
 "nbformat": 4,
 "nbformat_minor": 2
}
