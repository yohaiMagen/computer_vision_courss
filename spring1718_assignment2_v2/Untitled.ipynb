{
 "cells": [
  {
   "cell_type": "code",
   "execution_count": 1,
   "metadata": {},
   "outputs": [],
   "source": [
    "import numpy as np\n",
    "import matplotlib.pyplot as plt"
   ]
  },
  {
   "cell_type": "code",
   "execution_count": 2,
   "metadata": {},
   "outputs": [
    {
     "data": {
      "text/plain": [
       "array([[  3,  12,  -4,  11,  21,  18,  -5,  25,  14,   6],\n",
       "       [ 29,  15,  -4,   8,  -1,  16,  -5,  -1,  -7,   0],\n",
       "       [ 17,  25,  28,  25,  -4,  -4,  -9,  16,  24,  29],\n",
       "       [ 23,  29,   6,  -7,   7,   7, -10,   2,   0,   5],\n",
       "       [ 19,  -8,  -1,   4,   8,  -4,  -1,  26,  26,   4],\n",
       "       [ -6,  15,  13,  25,  10, -10,  25,   1,  13,   0],\n",
       "       [ 18,  13,  18,  16,  24,  13,  -1,  -8,  -6,  23],\n",
       "       [  6,  24,  29,  21,  -9,  24,   3,  13,  26,  29],\n",
       "       [  2,   3,  -2,  15,  22,   3,  -1,  28,  -9,  12],\n",
       "       [ 13,  26,  17,   8,  26,  27,  26,  16,  20,  10]])"
      ]
     },
     "execution_count": 2,
     "metadata": {},
     "output_type": "execute_result"
    }
   ],
   "source": [
    "a =np.random.randint(-10, 30,(10,10))\n",
    "a"
   ]
  },
  {
   "cell_type": "code",
   "execution_count": 3,
   "metadata": {},
   "outputs": [],
   "source": [
    "a[a<0] = 0"
   ]
  },
  {
   "cell_type": "code",
   "execution_count": 4,
   "metadata": {},
   "outputs": [
    {
     "data": {
      "text/plain": [
       "array([[ 3, 12,  0, 11, 21, 18,  0, 25, 14,  6],\n",
       "       [29, 15,  0,  8,  0, 16,  0,  0,  0,  0],\n",
       "       [17, 25, 28, 25,  0,  0,  0, 16, 24, 29],\n",
       "       [23, 29,  6,  0,  7,  7,  0,  2,  0,  5],\n",
       "       [19,  0,  0,  4,  8,  0,  0, 26, 26,  4],\n",
       "       [ 0, 15, 13, 25, 10,  0, 25,  1, 13,  0],\n",
       "       [18, 13, 18, 16, 24, 13,  0,  0,  0, 23],\n",
       "       [ 6, 24, 29, 21,  0, 24,  3, 13, 26, 29],\n",
       "       [ 2,  3,  0, 15, 22,  3,  0, 28,  0, 12],\n",
       "       [13, 26, 17,  8, 26, 27, 26, 16, 20, 10]])"
      ]
     },
     "execution_count": 4,
     "metadata": {},
     "output_type": "execute_result"
    }
   ],
   "source": [
    "a"
   ]
  },
  {
   "cell_type": "code",
   "execution_count": null,
   "metadata": {},
   "outputs": [],
   "source": []
  }
 ],
 "metadata": {
  "kernelspec": {
   "display_name": "computer_vision",
   "language": "python",
   "name": "computer_vision"
  },
  "language_info": {
   "codemirror_mode": {
    "name": "ipython",
    "version": 2
   },
   "file_extension": ".py",
   "mimetype": "text/x-python",
   "name": "python",
   "nbconvert_exporter": "python",
   "pygments_lexer": "ipython2",
   "version": "2.7.14"
  }
 },
 "nbformat": 4,
 "nbformat_minor": 2
}
